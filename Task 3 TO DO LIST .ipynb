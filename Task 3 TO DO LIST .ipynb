{
 "cells": [
  {
   "cell_type": "code",
   "execution_count": null,
   "id": "d3245bda",
   "metadata": {},
   "outputs": [
    {
     "name": "stdout",
     "output_type": "stream",
     "text": [
      "\n",
      "To-Do List\n",
      "1. Add Task\n",
      "2. View Tasks\n",
      "3. Complete Task\n",
      "4. Remove Task\n",
      "5. Exit\n"
     ]
    }
   ],
   "source": [
    "\n",
    "class ToDoList:\n",
    "    def __init__(self):\n",
    "        self.tasks = []\n",
    "\n",
    "    def add_task(self, task):\n",
    "        self.tasks.append(task)\n",
    "        print(\"Task added successfully!\")\n",
    "\n",
    "    def view_tasks(self):\n",
    "        if self.tasks:\n",
    "            print(\"Tasks:\")\n",
    "            for index, task in enumerate(self.tasks, start=1):\n",
    "                print(f\"{index}. {task}\")\n",
    "        else:\n",
    "            print(\"No tasks found.\")\n",
    "\n",
    "    def complete_task(self, task_index):\n",
    "        if 1 <= task_index <= len(self.tasks):\n",
    "            completed_task = self.tasks.pop(task_index - 1)\n",
    "            print(f\"Completed task: {completed_task}\")\n",
    "        else:\n",
    "            print(\"Invalid task index.\")\n",
    "\n",
    "    def remove_task(self, task_index):\n",
    "        if 1 <= task_index <= len(self.tasks):\n",
    "            removed_task = self.tasks.pop(task_index - 1)\n",
    "            print(f\"Removed task: {removed_task}\")\n",
    "        else:\n",
    "            print(\"Invalid task index.\")\n",
    "\n",
    "def main():\n",
    "    todo_list = ToDoList()\n",
    "\n",
    "    while True:\n",
    "        print(\"\\nTo-Do List\")\n",
    "        print(\"1. Add Task\")\n",
    "        print(\"2. View Tasks\")\n",
    "        print(\"3. Complete Task\")\n",
    "        print(\"4. Remove Task\")\n",
    "        print(\"5. Exit\")\n",
    "\n",
    "        choice = input(\"Enter your choice (1-5): \")\n",
    "\n",
    "        if choice == '1':\n",
    "            task = input(\"Enter task: \")\n",
    "            todo_list.add_task(task)\n",
    "        elif choice == '2':\n",
    "            todo_list.view_tasks()\n",
    "        elif choice == '3':\n",
    "            task_index = int(input(\"Enter task index to mark as complete: \"))\n",
    "            todo_list.complete_task(task_index)\n",
    "        elif choice == '4':\n",
    "            task_index = int(input(\"Enter task index to remove: \"))\n",
    "            todo_list.remove_task(task_index)\n",
    "        elif choice == '5':\n",
    "            print(\"Exiting...\")\n",
    "            break\n",
    "        else:\n",
    "            print(\"Invalid choice. Please enter a valid option.\")\n",
    "\n",
    "if __name__ == \"__main__\":\n",
    "    main()\n"
   ]
  },
  {
   "cell_type": "code",
   "execution_count": null,
   "id": "e7fc10e2",
   "metadata": {},
   "outputs": [],
   "source": []
  }
 ],
 "metadata": {
  "kernelspec": {
   "display_name": "Python 3 (ipykernel)",
   "language": "python",
   "name": "python3"
  },
  "language_info": {
   "codemirror_mode": {
    "name": "ipython",
    "version": 3
   },
   "file_extension": ".py",
   "mimetype": "text/x-python",
   "name": "python",
   "nbconvert_exporter": "python",
   "pygments_lexer": "ipython3",
   "version": "3.9.12"
  }
 },
 "nbformat": 4,
 "nbformat_minor": 5
}
